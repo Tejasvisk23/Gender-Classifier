{
 "cells": [
  {
   "cell_type": "markdown",
   "metadata": {},
   "source": [
    "# Image classification using Convolutional Neural Networks"
   ]
  },
  {
   "cell_type": "markdown",
   "metadata": {},
   "source": [
    "## Step 1 : Importing essential python libraries"
   ]
  },
  {
   "cell_type": "code",
   "execution_count": 1,
   "metadata": {},
   "outputs": [],
   "source": [
    "import tensorflow as tf\n",
    "from keras.preprocessing import image\n",
    "from keras.preprocessing.image import ImageDataGenerator\n",
    "import numpy as np\n",
    "import matplotlib.pyplot as plt\n",
    "import PIL"
   ]
  },
  {
   "cell_type": "code",
   "execution_count": 2,
   "metadata": {},
   "outputs": [
    {
     "data": {
      "text/plain": [
       "'2.3.1'"
      ]
     },
     "execution_count": 2,
     "metadata": {},
     "output_type": "execute_result"
    }
   ],
   "source": [
    "tf.__version__"
   ]
  },
  {
   "cell_type": "markdown",
   "metadata": {},
   "source": [
    "## Step 2 : Data-preprocessing"
   ]
  },
  {
   "cell_type": "markdown",
   "metadata": {},
   "source": [
    "### Pre-processing training set"
   ]
  },
  {
   "cell_type": "code",
   "execution_count": 3,
   "metadata": {},
   "outputs": [
    {
     "name": "stdout",
     "output_type": "stream",
     "text": [
      "Found 47009 images belonging to 2 classes.\n"
     ]
    }
   ],
   "source": [
    "train_datagen = ImageDataGenerator(\n",
    "                rescale = 1./255,\n",
    "                shear_range = 0.2,\n",
    "                zoom_range = 0.2,\n",
    "                horizontal_flip = True)\n",
    "training_set = train_datagen.flow_from_directory(\n",
    "                'Training',\n",
    "                target_size = (64, 64),\n",
    "                batch_size = 32,\n",
    "                class_mode = 'binary')"
   ]
  },
  {
   "cell_type": "markdown",
   "metadata": {},
   "source": [
    "### Pre-processing test set"
   ]
  },
  {
   "cell_type": "code",
   "execution_count": 4,
   "metadata": {},
   "outputs": [
    {
     "name": "stdout",
     "output_type": "stream",
     "text": [
      "Found 11649 images belonging to 2 classes.\n"
     ]
    }
   ],
   "source": [
    "test_datagen = ImageDataGenerator(rescale = 1./255)\n",
    "test_set = test_datagen.flow_from_directory(\n",
    "                'Validation',\n",
    "                target_size = (64, 64),\n",
    "                batch_size = 32,\n",
    "                class_mode = 'binary')"
   ]
  },
  {
   "cell_type": "markdown",
   "metadata": {},
   "source": [
    "## Step 3 : Building the Convolutional Neural Network model"
   ]
  },
  {
   "cell_type": "code",
   "execution_count": 5,
   "metadata": {},
   "outputs": [
    {
     "name": "stdout",
     "output_type": "stream",
     "text": [
      "Model: \"sequential\"\n",
      "_________________________________________________________________\n",
      "Layer (type)                 Output Shape              Param #   \n",
      "=================================================================\n",
      "conv2d (Conv2D)              (None, 62, 62, 32)        896       \n",
      "_________________________________________________________________\n",
      "max_pooling2d (MaxPooling2D) (None, 31, 31, 32)        0         \n",
      "_________________________________________________________________\n",
      "conv2d_1 (Conv2D)            (None, 29, 29, 32)        9248      \n",
      "_________________________________________________________________\n",
      "max_pooling2d_1 (MaxPooling2 (None, 14, 14, 32)        0         \n",
      "_________________________________________________________________\n",
      "conv2d_2 (Conv2D)            (None, 12, 12, 32)        9248      \n",
      "_________________________________________________________________\n",
      "max_pooling2d_2 (MaxPooling2 (None, 6, 6, 32)          0         \n",
      "_________________________________________________________________\n",
      "flatten (Flatten)            (None, 1152)              0         \n",
      "_________________________________________________________________\n",
      "dense (Dense)                (None, 128)               147584    \n",
      "_________________________________________________________________\n",
      "dropout (Dropout)            (None, 128)               0         \n",
      "_________________________________________________________________\n",
      "dense_1 (Dense)              (None, 32)                4128      \n",
      "_________________________________________________________________\n",
      "dense_2 (Dense)              (None, 1)                 33        \n",
      "=================================================================\n",
      "Total params: 171,137\n",
      "Trainable params: 171,137\n",
      "Non-trainable params: 0\n",
      "_________________________________________________________________\n"
     ]
    }
   ],
   "source": [
    "# Step 1 : Initializing the CNN as a sequence of layers\n",
    "cnn = tf.keras.models.Sequential()\n",
    "\n",
    "# Step 2 : Convolutional Block\n",
    "## Set 1 (Convolution + Max Pooling)\n",
    "cnn.add(tf.keras.layers.Conv2D(filters = 32, kernel_size = 3, activation = 'relu', input_shape = [64, 64, 3]))\n",
    "cnn.add(tf.keras.layers.MaxPool2D(pool_size = 2, strides = 2))\n",
    "\n",
    "## Set 2 (Convolution + Max Pooling)\n",
    "cnn.add(tf.keras.layers.Conv2D(filters = 32, kernel_size = 3, activation = 'relu'))\n",
    "cnn.add(tf.keras.layers.MaxPool2D(pool_size = 2, strides = 2))\n",
    "\n",
    "## Set 3 (Convolution + Max Pooling)\n",
    "cnn.add(tf.keras.layers.Conv2D(filters = 32, kernel_size = 3, activation = 'relu'))\n",
    "cnn.add(tf.keras.layers.MaxPool2D(pool_size = 2, strides = 2))\n",
    "\n",
    "# Step 3 : Flattening\n",
    "cnn.add(tf.keras.layers.Flatten())\n",
    "\n",
    "# step 4 : Artificial Neural Network\n",
    "## Full Connection\n",
    "cnn.add(tf.keras.layers.Dense(units = 128, activation = 'relu'))\n",
    "cnn.add(tf.keras.layers.Dropout(0.5))\n",
    "cnn.add(tf.keras.layers.Dense(units = 32, activation = 'relu'))\n",
    "\n",
    "## Output layer\n",
    "cnn.add(tf.keras.layers.Dense(units = 1, activation = 'sigmoid'))\n",
    "\n",
    "# Summary\n",
    "cnn.summary()"
   ]
  },
  {
   "cell_type": "markdown",
   "metadata": {},
   "source": [
    "## Step 4 : Training the CNN model"
   ]
  },
  {
   "cell_type": "markdown",
   "metadata": {},
   "source": [
    "### Compiling the model"
   ]
  },
  {
   "cell_type": "code",
   "execution_count": 6,
   "metadata": {},
   "outputs": [],
   "source": [
    "cnn.compile(optimizer = 'adam', loss = tf.keras.losses.BinaryCrossentropy(\n",
    "    from_logits=False, label_smoothing=0, reduction=\"auto\", name=\"binary_crossentropy\"), metrics = ['accuracy'])"
   ]
  },
  {
   "cell_type": "markdown",
   "metadata": {},
   "source": [
    "### Training the model on training set and evaluating on the test set"
   ]
  },
  {
   "cell_type": "code",
   "execution_count": 7,
   "metadata": {},
   "outputs": [
    {
     "name": "stdout",
     "output_type": "stream",
     "text": [
      "Epoch 1/30\n",
      "1470/1470 [==============================] - 156s 106ms/step - loss: 0.3125 - accuracy: 0.8597 - val_loss: 0.1522 - val_accuracy: 0.9422\n",
      "Epoch 2/30\n",
      "1470/1470 [==============================] - 147s 100ms/step - loss: 0.1863 - accuracy: 0.9304 - val_loss: 0.1258 - val_accuracy: 0.9531\n",
      "Epoch 3/30\n",
      "1470/1470 [==============================] - 149s 101ms/step - loss: 0.1643 - accuracy: 0.9408 - val_loss: 0.1258 - val_accuracy: 0.9537\n",
      "Epoch 4/30\n",
      "1470/1470 [==============================] - 154s 105ms/step - loss: 0.1661 - accuracy: 0.9393 - val_loss: 0.1268 - val_accuracy: 0.9515\n",
      "Epoch 5/30\n",
      "1470/1470 [==============================] - 147s 100ms/step - loss: 0.1512 - accuracy: 0.9458 - val_loss: 0.1143 - val_accuracy: 0.9591\n",
      "Epoch 6/30\n",
      "1470/1470 [==============================] - 259s 176ms/step - loss: 0.1462 - accuracy: 0.9470 - val_loss: 0.1236 - val_accuracy: 0.9547\n",
      "Epoch 7/30\n",
      "1470/1470 [==============================] - 158s 108ms/step - loss: 0.1420 - accuracy: 0.9479 - val_loss: 0.1218 - val_accuracy: 0.9531\n",
      "Epoch 8/30\n",
      "1470/1470 [==============================] - 154s 105ms/step - loss: 0.1369 - accuracy: 0.9515 - val_loss: 0.1207 - val_accuracy: 0.9552\n",
      "Epoch 9/30\n",
      "1470/1470 [==============================] - 146s 99ms/step - loss: 0.1334 - accuracy: 0.9525 - val_loss: 0.1085 - val_accuracy: 0.9615\n",
      "Epoch 10/30\n",
      "1470/1470 [==============================] - 146s 99ms/step - loss: 0.1292 - accuracy: 0.9538 - val_loss: 0.0990 - val_accuracy: 0.9639\n",
      "Epoch 11/30\n",
      "1470/1470 [==============================] - 156s 106ms/step - loss: 0.1291 - accuracy: 0.9540 - val_loss: 0.1029 - val_accuracy: 0.9607\n",
      "Epoch 12/30\n",
      "1470/1470 [==============================] - 148s 101ms/step - loss: 0.1265 - accuracy: 0.9548 - val_loss: 0.1078 - val_accuracy: 0.9630\n",
      "Epoch 13/30\n",
      "1470/1470 [==============================] - 153s 104ms/step - loss: 0.1217 - accuracy: 0.9571 - val_loss: 0.1064 - val_accuracy: 0.9621\n",
      "Epoch 14/30\n",
      "1470/1470 [==============================] - 146s 100ms/step - loss: 0.1228 - accuracy: 0.9561 - val_loss: 0.0956 - val_accuracy: 0.9660\n",
      "Epoch 15/30\n",
      "1470/1470 [==============================] - 150s 102ms/step - loss: 0.1224 - accuracy: 0.9562 - val_loss: 0.1043 - val_accuracy: 0.9627\n",
      "Epoch 16/30\n",
      "1470/1470 [==============================] - 150s 102ms/step - loss: 0.1207 - accuracy: 0.9573 - val_loss: 0.1050 - val_accuracy: 0.9617\n",
      "Epoch 17/30\n",
      "1470/1470 [==============================] - 146s 99ms/step - loss: 0.1163 - accuracy: 0.9593 - val_loss: 0.1044 - val_accuracy: 0.9667\n",
      "Epoch 18/30\n",
      "1470/1470 [==============================] - 153s 104ms/step - loss: 0.1144 - accuracy: 0.9604 - val_loss: 0.0935 - val_accuracy: 0.9675\n",
      "Epoch 19/30\n",
      "1470/1470 [==============================] - 152s 103ms/step - loss: 0.1135 - accuracy: 0.9601 - val_loss: 0.0910 - val_accuracy: 0.9664\n",
      "Epoch 20/30\n",
      "1470/1470 [==============================] - 148s 101ms/step - loss: 0.1132 - accuracy: 0.9606 - val_loss: 0.0994 - val_accuracy: 0.9650\n",
      "Epoch 21/30\n",
      "1470/1470 [==============================] - 153s 104ms/step - loss: 0.1137 - accuracy: 0.9605 - val_loss: 0.0977 - val_accuracy: 0.9651\n",
      "Epoch 22/30\n",
      "1470/1470 [==============================] - 147s 100ms/step - loss: 0.1121 - accuracy: 0.9602 - val_loss: 0.0962 - val_accuracy: 0.9672\n",
      "Epoch 23/30\n",
      "1470/1470 [==============================] - 147s 100ms/step - loss: 0.1115 - accuracy: 0.9605 - val_loss: 0.0940 - val_accuracy: 0.9676\n",
      "Epoch 24/30\n",
      "1470/1470 [==============================] - 157s 107ms/step - loss: 0.1091 - accuracy: 0.9611 - val_loss: 0.1046 - val_accuracy: 0.9644\n",
      "Epoch 25/30\n",
      "1470/1470 [==============================] - 150s 102ms/step - loss: 0.1081 - accuracy: 0.9626 - val_loss: 0.0929 - val_accuracy: 0.9677\n",
      "Epoch 26/30\n",
      "1470/1470 [==============================] - 147s 100ms/step - loss: 0.1064 - accuracy: 0.9623 - val_loss: 0.1040 - val_accuracy: 0.9630\n",
      "Epoch 27/30\n",
      "1470/1470 [==============================] - 149s 102ms/step - loss: 0.1067 - accuracy: 0.9630 - val_loss: 0.0887 - val_accuracy: 0.9668\n",
      "Epoch 28/30\n",
      "1470/1470 [==============================] - 155s 105ms/step - loss: 0.1065 - accuracy: 0.9625 - val_loss: 0.0928 - val_accuracy: 0.9661\n",
      "Epoch 29/30\n",
      "1470/1470 [==============================] - 151s 103ms/step - loss: 0.1062 - accuracy: 0.9626 - val_loss: 0.0869 - val_accuracy: 0.9694\n",
      "Epoch 30/30\n",
      "1470/1470 [==============================] - 171s 116ms/step - loss: 0.1020 - accuracy: 0.9640 - val_loss: 0.0934 - val_accuracy: 0.9682\n"
     ]
    }
   ],
   "source": [
    "history = cnn.fit(x = training_set, validation_data = test_set, epochs = 30)"
   ]
  },
  {
   "cell_type": "markdown",
   "metadata": {},
   "source": [
    "## Step 5 : Visualizing the results"
   ]
  },
  {
   "cell_type": "markdown",
   "metadata": {},
   "source": [
    "### Accuracy"
   ]
  },
  {
   "cell_type": "code",
   "execution_count": 8,
   "metadata": {},
   "outputs": [
    {
     "data": {
      "image/png": "[encoded data removed]",
      "text/plain": [
       "<Figure size 432x288 with 1 Axes>"
      ]
     },
     "metadata": {
      "needs_background": "light"
     },
     "output_type": "display_data"
    }
   ],
   "source": [
    "acc_train = history.history['accuracy']\n",
    "acc_val = history.history['val_accuracy']\n",
    "epochs = range(1,31)\n",
    "plt.plot(epochs, acc_train, 'g', label='Training accuracy')\n",
    "plt.plot(epochs, acc_val, 'b', label='validation accuracy')\n",
    "plt.title('Training and Validation accuracy')\n",
    "plt.xlabel('Epochs')\n",
    "plt.ylabel('Accuracy')\n",
    "plt.legend()\n",
    "plt.show()"
   ]
  },
  {
   "cell_type": "markdown",
   "metadata": {},
   "source": [
    "### Loss"
   ]
  },
  {
   "cell_type": "code",
   "execution_count": 9,
   "metadata": {},
   "outputs": [
    {
     "data": {
      "image/png": "[encoded data removed]",
      "text/plain": [
       "<Figure size 432x288 with 1 Axes>"
      ]
     },
     "metadata": {
      "needs_background": "light"
     },
     "output_type": "display_data"
    }
   ],
   "source": [
    "loss_train = history.history['loss']\n",
    "loss_val = history.history['val_loss']\n",
    "epochs = range(1,31)\n",
    "plt.plot(epochs, loss_train, 'g', label='Training loss')\n",
    "plt.plot(epochs, loss_val, 'b', label='validation loss')\n",
    "plt.title('Training and Validation loss')\n",
    "plt.xlabel('Epochs')\n",
    "plt.ylabel('Loss')\n",
    "plt.legend()\n",
    "plt.show()"
   ]
  },
  {
   "cell_type": "markdown",
   "metadata": {},
   "source": [
    "## Step 6 : Single Prediction"
   ]
  },
  {
   "cell_type": "code",
   "execution_count": 10,
   "metadata": {},
   "outputs": [
    {
     "data": {
      "text/plain": [
       "{'female': 0, 'male': 1}"
      ]
     },
     "execution_count": 10,
     "metadata": {},
     "output_type": "execute_result"
    }
   ],
   "source": [
    "training_set.class_indices"
   ]
  },
  {
   "cell_type": "markdown",
   "metadata": {},
   "source": [
    "### Female"
   ]
  },
  {
   "cell_type": "code",
   "execution_count": 11,
   "metadata": {},
   "outputs": [
    {
     "data": {
      "image/png": "[encoded data removed]",
      "text/plain": [
       "<PIL.JpegImagePlugin.JpegImageFile image mode=RGB size=86x111 at 0x2531D5D9970>"
      ]
     },
     "execution_count": 11,
     "metadata": {},
     "output_type": "execute_result"
    }
   ],
   "source": [
    "PIL.Image.open('single_pred/124075.jpg.jpg')"
   ]
  },
  {
   "cell_type": "code",
   "execution_count": 12,
   "metadata": {},
   "outputs": [
    {
     "name": "stdout",
     "output_type": "stream",
     "text": [
      "female\n"
     ]
    }
   ],
   "source": [
    "female_img = image.load_img('single_pred/124075.jpg.jpg', target_size = (64, 64))\n",
    "female_img = image.img_to_array(female_img)\n",
    "female_img = np.expand_dims(female_img, axis = 0)\n",
    "result = cnn.predict(female_img)\n",
    "if result[0][0] > 0.5:\n",
    "  prediction = 'male'\n",
    "else:\n",
    "  prediction = 'female'\n",
    "print(prediction)"
   ]
  },
  {
   "cell_type": "markdown",
   "metadata": {},
   "source": [
    "### Male"
   ]
  },
  {
   "cell_type": "code",
   "execution_count": 13,
   "metadata": {},
   "outputs": [
    {
     "data": {
      "image/png": "[encoded data removed]",
      "text/plain": [
       "<PIL.JpegImagePlugin.JpegImageFile image mode=RGB size=91x113 at 0x2533983EE20>"
      ]
     },
     "execution_count": 13,
     "metadata": {},
     "output_type": "execute_result"
    }
   ],
   "source": [
    "PIL.Image.open('single_pred/077297.jpg.jpg')"
   ]
  },
  {
   "cell_type": "code",
   "execution_count": 15,
   "metadata": {},
   "outputs": [
    {
     "name": "stdout",
     "output_type": "stream",
     "text": [
      "male\n"
     ]
    }
   ],
   "source": [
    "male_img = image.load_img('single_pred/077297.jpg.jpg', target_size = (64, 64))\n",
    "male_img = image.img_to_array(male_img)\n",
    "male_img = np.expand_dims(male_img, axis = 0)\n",
    "result = cnn.predict(male_img)\n",
    "if result[0][0] > 0.5:\n",
    "  prediction = 'male'\n",
    "else:\n",
    "  prediction = 'female'\n",
    "print(prediction)"
   ]
  },
  {
   "cell_type": "markdown",
   "metadata": {},
   "source": [
    "## Step 7 : Saving the model"
   ]
  },
  {
   "cell_type": "code",
   "execution_count": 16,
   "metadata": {},
   "outputs": [
    {
     "name": "stdout",
     "output_type": "stream",
     "text": [
      "WARNING:tensorflow:From C:\\Users\\tejas\\Anaconda3\\lib\\site-packages\\tensorflow\\python\\training\\tracking\\tracking.py:111: Model.state_updates (from tensorflow.python.keras.engine.training) is deprecated and will be removed in a future version.\n",
      "Instructions for updating:\n",
      "This property should not be used in TensorFlow 2.0, as updates are applied automatically.\n",
      "WARNING:tensorflow:From C:\\Users\\tejas\\Anaconda3\\lib\\site-packages\\tensorflow\\python\\training\\tracking\\tracking.py:111: Layer.updates (from tensorflow.python.keras.engine.base_layer) is deprecated and will be removed in a future version.\n",
      "Instructions for updating:\n",
      "This property should not be used in TensorFlow 2.0, as updates are applied automatically.\n",
      "INFO:tensorflow:Assets written to: MaleVsFemale_model_1\\assets\n"
     ]
    }
   ],
   "source": [
    "cnn.save('MaleVsFemale_model_1')"
   ]
  },
  {
   "cell_type": "code",
   "execution_count": 18,
   "metadata": {},
   "outputs": [],
   "source": [
    "from keras.models import load_model\n",
    "classifier = load_model('MaleVsFemale_model_1')"
   ]
  },
  {
   "cell_type": "code",
   "execution_count": 19,
   "metadata": {},
   "outputs": [
    {
     "name": "stdout",
     "output_type": "stream",
     "text": [
      "Model: \"sequential\"\n",
      "_________________________________________________________________\n",
      "Layer (type)                 Output Shape              Param #   \n",
      "=================================================================\n",
      "conv2d (Conv2D)              (None, 62, 62, 32)        896       \n",
      "_________________________________________________________________\n",
      "max_pooling2d (MaxPooling2D) (None, 31, 31, 32)        0         \n",
      "_________________________________________________________________\n",
      "conv2d_1 (Conv2D)            (None, 29, 29, 32)        9248      \n",
      "_________________________________________________________________\n",
      "max_pooling2d_1 (MaxPooling2 (None, 14, 14, 32)        0         \n",
      "_________________________________________________________________\n",
      "conv2d_2 (Conv2D)            (None, 12, 12, 32)        9248      \n",
      "_________________________________________________________________\n",
      "max_pooling2d_2 (MaxPooling2 (None, 6, 6, 32)          0         \n",
      "_________________________________________________________________\n",
      "flatten (Flatten)            (None, 1152)              0         \n",
      "_________________________________________________________________\n",
      "dense (Dense)                (None, 128)               147584    \n",
      "_________________________________________________________________\n",
      "dropout (Dropout)            (None, 128)               0         \n",
      "_________________________________________________________________\n",
      "dense_1 (Dense)              (None, 32)                4128      \n",
      "_________________________________________________________________\n",
      "dense_2 (Dense)              (None, 1)                 33        \n",
      "=================================================================\n",
      "Total params: 171,137\n",
      "Trainable params: 171,137\n",
      "Non-trainable params: 0\n",
      "_________________________________________________________________\n"
     ]
    }
   ],
   "source": [
    "classifier.summary()"
   ]
  }
 ],
 "metadata": {
  "kernelspec": {
   "display_name": "Python 3",
   "language": "python",
   "name": "python3"
  },
  "language_info": {
   "codemirror_mode": {
    "name": "ipython",
    "version": 3
   },
   "file_extension": ".py",
   "mimetype": "text/x-python",
   "name": "python",
   "nbconvert_exporter": "python",
   "pygments_lexer": "ipython3",
   "version": "3.8.5"
  }
 },
 "nbformat": 4,
 "nbformat_minor": 4
}
